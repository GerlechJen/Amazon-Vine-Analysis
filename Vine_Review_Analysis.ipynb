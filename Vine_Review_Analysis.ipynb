{
  "nbformat": 4,
  "nbformat_minor": 0,
  "metadata": {
    "colab": {
      "name": "Vine_Review_Analysis.ipynb",
      "provenance": []
    },
    "kernelspec": {
      "name": "python3",
      "display_name": "Python 3"
    },
    "language_info": {
      "name": "python"
    }
  },
  "cells": [
    {
      "cell_type": "code",
      "execution_count": 2,
      "metadata": {
        "colab": {
          "base_uri": "https://localhost:8080/"
        },
        "id": "V8vYt4I9NNy2",
        "outputId": "36a5a845-3a98-4f01-9554-df6722515946"
      },
      "outputs": [
        {
          "output_type": "stream",
          "name": "stdout",
          "text": [
            "\r0% [Working]\r            \rGet:1 https://cloud.r-project.org/bin/linux/ubuntu bionic-cran40/ InRelease [3,626 B]\n",
            "\r0% [Waiting for headers] [Waiting for headers] [1 InRelease 0 B/3,626 B 0%] [Wa\r0% [Waiting for headers] [Waiting for headers] [Waiting for headers] [Waiting f\r                                                                               \rGet:2 http://security.ubuntu.com/ubuntu bionic-security InRelease [88.7 kB]\n",
            "\r0% [Waiting for headers] [2 InRelease 14.2 kB/88.7 kB 16%] [Waiting for headers\r0% [1 InRelease gpgv 3,626 B] [Waiting for headers] [2 InRelease 14.2 kB/88.7 k\r                                                                               \rIgn:3 https://developer.download.nvidia.com/compute/machine-learning/repos/ubuntu1804/x86_64  InRelease\n",
            "\r0% [1 InRelease gpgv 3,626 B] [Waiting for headers] [2 InRelease 20.0 kB/88.7 k\r                                                                               \rGet:4 http://ppa.launchpad.net/c2d4u.team/c2d4u4.0+/ubuntu bionic InRelease [15.9 kB]\n",
            "\r0% [1 InRelease gpgv 3,626 B] [Waiting for headers] [2 InRelease 20.0 kB/88.7 k\r                                                                               \rGet:5 https://developer.download.nvidia.com/compute/cuda/repos/ubuntu1804/x86_64  InRelease [1,581 B]\n",
            "Hit:6 http://archive.ubuntu.com/ubuntu bionic InRelease\n",
            "Hit:7 https://developer.download.nvidia.com/compute/machine-learning/repos/ubuntu1804/x86_64  Release\n",
            "Get:8 http://archive.ubuntu.com/ubuntu bionic-updates InRelease [88.7 kB]\n",
            "Hit:9 http://ppa.launchpad.net/cran/libgit2/ubuntu bionic InRelease\n",
            "Get:10 https://developer.download.nvidia.com/compute/cuda/repos/ubuntu1804/x86_64  Packages [910 kB]\n",
            "Get:11 http://archive.ubuntu.com/ubuntu bionic-backports InRelease [74.6 kB]\n",
            "Hit:12 http://ppa.launchpad.net/deadsnakes/ppa/ubuntu bionic InRelease\n",
            "Hit:13 http://ppa.launchpad.net/graphics-drivers/ppa/ubuntu bionic InRelease\n",
            "Get:15 http://security.ubuntu.com/ubuntu bionic-security/universe amd64 Packages [1,533 kB]\n",
            "Get:16 http://security.ubuntu.com/ubuntu bionic-security/main amd64 Packages [2,937 kB]\n",
            "Get:17 http://ppa.launchpad.net/c2d4u.team/c2d4u4.0+/ubuntu bionic/main Sources [2,095 kB]\n",
            "Get:18 http://archive.ubuntu.com/ubuntu bionic-updates/main amd64 Packages [3,369 kB]\n",
            "Get:19 http://ppa.launchpad.net/c2d4u.team/c2d4u4.0+/ubuntu bionic/main amd64 Packages [1,073 kB]\n",
            "Get:20 http://archive.ubuntu.com/ubuntu bionic-updates/universe amd64 Packages [2,311 kB]\n",
            "Fetched 14.5 MB in 3s (4,151 kB/s)\n",
            "Reading package lists... Done\n"
          ]
        }
      ],
      "source": [
        "import os\n",
        "# Find the latest version of spark 3.0 from http://www.apache.org/dist/spark/ and enter as the spark version\n",
        "# For example:\n",
        "# spark_version = 'spark-3.0.3'\n",
        "spark_version = 'spark-3.1.3'\n",
        "os.environ['SPARK_VERSION']=spark_version\n",
        "\n",
        "# Install Spark and Java\n",
        "!apt-get update\n",
        "!apt-get install openjdk-11-jdk-headless -qq > /dev/null\n",
        "!wget -q http://www.apache.org/dist/spark/$SPARK_VERSION/$SPARK_VERSION-bin-hadoop2.7.tgz\n",
        "!tar xf $SPARK_VERSION-bin-hadoop2.7.tgz\n",
        "!pip install -q findspark\n",
        "\n",
        "# Set Environment Variables\n",
        "import os\n",
        "os.environ[\"JAVA_HOME\"] = \"/usr/lib/jvm/java-11-openjdk-amd64\"\n",
        "os.environ[\"SPARK_HOME\"] = f\"/content/{spark_version}-bin-hadoop2.7\"\n",
        "\n",
        "# Start a SparkSession\n",
        "import findspark\n",
        "findspark.init()"
      ]
    },
    {
      "cell_type": "code",
      "source": [
        "# Download the Postgres driver that will allow Spark to interact with Postgres.\n",
        "!wget https://jdbc.postgresql.org/download/postgresql-42.2.16.jar"
      ],
      "metadata": {
        "colab": {
          "base_uri": "https://localhost:8080/"
        },
        "id": "PkR4TqaKNkI9",
        "outputId": "e694ea91-e2ad-4f3a-a571-f6b1a2cd2b10"
      },
      "execution_count": 3,
      "outputs": [
        {
          "output_type": "stream",
          "name": "stdout",
          "text": [
            "--2022-08-21 22:00:08--  https://jdbc.postgresql.org/download/postgresql-42.2.16.jar\n",
            "Resolving jdbc.postgresql.org (jdbc.postgresql.org)... 72.32.157.228, 2001:4800:3e1:1::228\n",
            "Connecting to jdbc.postgresql.org (jdbc.postgresql.org)|72.32.157.228|:443... connected.\n",
            "HTTP request sent, awaiting response... 200 OK\n",
            "Length: 1002883 (979K) [application/java-archive]\n",
            "Saving to: ‘postgresql-42.2.16.jar’\n",
            "\n",
            "postgresql-42.2.16. 100%[===================>] 979.38K  6.21MB/s    in 0.2s    \n",
            "\n",
            "2022-08-21 22:00:08 (6.21 MB/s) - ‘postgresql-42.2.16.jar’ saved [1002883/1002883]\n",
            "\n"
          ]
        }
      ]
    },
    {
      "cell_type": "code",
      "metadata": {
        "id": "MMqDAjVS0KN9"
      },
      "source": [
        "from pyspark.sql import SparkSession\n",
        "spark = SparkSession.builder.appName(\"Big-Data-Challenge\").config(\"spark.driver.extraClassPath\",\"/content/postgresql-42.2.16.jar\").getOrCreate()"
      ],
      "execution_count": 4,
      "outputs": []
    },
    {
      "cell_type": "code",
      "source": [
        "# Loading Amazon data \n",
        "from pyspark import SparkFiles\n",
        "url = \"https://s3.amazonaws.com/amazon-reviews-pds/tsv/amazon_reviews_us_Camera_v1_00.tsv.gz\"\n",
        "spark.sparkContext.addFile(url)\n",
        "df = spark.read.option(\"encoding\", \"UTF-8\").csv(SparkFiles.get(\"\"), sep=\"\\t\", header=True, inferSchema=True)\n",
        "df.show()"
      ],
      "metadata": {
        "colab": {
          "base_uri": "https://localhost:8080/"
        },
        "id": "z6gnL-XVQBby",
        "outputId": "5badbb26-d5fd-4c7b-efd8-fbfa41cfe6b6"
      },
      "execution_count": 5,
      "outputs": [
        {
          "output_type": "stream",
          "name": "stdout",
          "text": [
            "+-----------+-----------+--------------+----------+--------------+--------------------+----------------+-----------+-------------+-----------+----+-----------------+--------------------+--------------------+-----------+\n",
            "|marketplace|customer_id|     review_id|product_id|product_parent|       product_title|product_category|star_rating|helpful_votes|total_votes|vine|verified_purchase|     review_headline|         review_body|review_date|\n",
            "+-----------+-----------+--------------+----------+--------------+--------------------+----------------+-----------+-------------+-----------+----+-----------------+--------------------+--------------------+-----------+\n",
            "|         US|    2975964|R1NBG94582SJE2|B00I01JQJM|     860486164|GoPro Rechargeabl...|          Camera|          5|            0|          0|   N|                Y|          Five Stars|                  ok| 2015-08-31|\n",
            "|         US|   23526356|R273DCA6Y0H9V7|B00TCO0ZAA|     292641483|Professional 58mm...|          Camera|          5|            0|          0|   N|                Y|          Love it!!!|Perfect, even stu...| 2015-08-31|\n",
            "|         US|   52764145| RQVOXO7WUOFK6|B00B7733E0|      75825744|Spy Tec Z12 Motio...|          Camera|          2|            1|          1|   N|                Y|Another Motion De...|If the words, &#3...| 2015-08-31|\n",
            "|         US|   47348933|R1KWKSF21PO6HO|B006ZN4U34|     789352955|Celestron UpClose...|          Camera|          5|            0|          0|   N|                Y|Exactly what I wa...|Exactly what I wa...| 2015-08-31|\n",
            "|         US|   33680700|R38H3UO1J190GI|B00HUEBGMU|      19067902|Vidpro XM-L Wired...|          Camera|          5|            1|          1|   N|                Y|Good mic at a Goo...|I will look past ...| 2015-08-31|\n",
            "|         US|   30301059|R3NPIFKLR19NQA|B008MW6Y12|     597683407|NIX 8 inch Hi-Res...|          Camera|          3|            0|          0|   N|                Y|The controls are ...|The controls are ...| 2015-08-31|\n",
            "|         US|   28282645|R3MBE6UCH3435E|B00TE8XKIS|      35563334|Polaroid ZIP Mobi...|          Camera|          3|            8|          8|   N|                N|Fun toy for makin...|The printer came ...| 2015-08-31|\n",
            "|         US|     502818|R2E7A4FF0PVY5Q|B00ZKDUFBQ|     555190742|GeekPro 2.0-Inch ...|          Camera|          5|            0|          1|   N|                Y|          Five Stars|Great camera for ...| 2015-08-31|\n",
            "|         US|    1481233| R3R8JDQ2BF4NM|B010BZ7S2Q|     129544315|Sony HDR-AZ1VR Ac...|          Camera|          5|            0|          2|   N|                Y|          Five Stars|Product is very g...| 2015-08-31|\n",
            "|         US|   27885926|R1YND4BS823GN5|B00HRXSSRA|     708418657|ChiliPower DMW-BL...|          Camera|          1|            0|          0|   N|                Y|              Sucky.|Lasted a few hour...| 2015-08-31|\n",
            "|         US|    3183883|R2TZNSA18V7YF6|B005C95NM4|     246957815|Zeikos Deluxe Fla...|          Camera|          4|            1|          1|   N|                Y|Hand Hold Bracket...|I needed the flas...| 2015-08-31|\n",
            "|         US|   23208852|R22ZVRDPPXIDNL|B00LBIBYBE|     746593019|  GoPro Hero Filters|          Camera|          5|            0|          0|   N|                Y|          Five Stars|Use these all the...| 2015-08-31|\n",
            "|         US|   11438825|R1F4O6WOO2W461|B00X3HIM2U|     444991975|Neewer Meike MK-X...|          Camera|          3|            3|          3|   N|                Y|Can't grip the ba...|Same issue as oth...| 2015-08-31|\n",
            "|         US|   50399582| RT1KLS3QSJNUT|B00KDVQF8W|     304104050|LB Photography Ba...|          Camera|          5|            4|          4|   N|                Y|Super pleased wit...|Super pleased wit...| 2015-08-31|\n",
            "|         US|   36700181|R222VYJL5K5IRS|B00GUZEZL4|     472875794|Waterproof Camera...|          Camera|          5|            0|          0|   N|                Y|    Excellent value!|These float wrist...| 2015-08-31|\n",
            "|         US|   47818374|R31LUR7M4PQOLU|B00FB1TBKS|     710827451|Ecolink Z-Wave PI...|          Camera|          5|            0|          0|   N|                Y|       great product|very good on batt...| 2015-08-31|\n",
            "|         US|   35272750|R1OD3T3Q042LUQ|B00GVMLPT6|     269896170|FotoTech Male to ...|          Camera|          2|            0|          0|   N|                Y|           Two Stars|im not happy, the...| 2015-08-31|\n",
            "|         US|   11736306|R2QT68OZTT2YKE|B00L8827BI|     145946775|Nikon D3200 Ultim...|          Camera|          5|            0|          0|   N|                Y|          Five Stars|It is a very good...| 2015-08-31|\n",
            "|         US|   52377008| RMFQF59FG3TD1|B00SIM78R0|     972011051|D-Link Wireless D...|          Camera|          4|            0|          0|   N|                Y|Nice camera, not ...|Nice camera for t...| 2015-08-31|\n",
            "|         US|    6465510|R1QNYFW6G31R5T|B00EDCZKJ2|     258297575|ZINK Phone Photo ...|          Camera|          1|            1|          3|   N|                N|        Never Agian.|If I could leave ...| 2015-08-31|\n",
            "+-----------+-----------+--------------+----------+--------------+--------------------+----------------+-----------+-------------+-----------+----+-----------------+--------------------+--------------------+-----------+\n",
            "only showing top 20 rows\n",
            "\n"
          ]
        }
      ]
    },
    {
      "cell_type": "code",
      "source": [
        "df.count()"
      ],
      "metadata": {
        "colab": {
          "base_uri": "https://localhost:8080/"
        },
        "id": "bdv89HUmasOF",
        "outputId": "24108e32-eeba-432e-93a4-ed27e3aa0b1c"
      },
      "execution_count": 6,
      "outputs": [
        {
          "output_type": "execute_result",
          "data": {
            "text/plain": [
              "1801974"
            ]
          },
          "metadata": {},
          "execution_count": 6
        }
      ]
    },
    {
      "cell_type": "code",
      "source": [
        "# Create the vine_table data frame\n",
        "vine_df = df.select([\"review_id\", \"star_rating\", \"helpful_votes\", \"total_votes\", \"vine\", \"verified_purchase\"])\n",
        "vine_df.show()"
      ],
      "metadata": {
        "colab": {
          "base_uri": "https://localhost:8080/"
        },
        "id": "n_u-2WeWw6r_",
        "outputId": "d43d99f7-0af3-402e-de61-499c668d98d3"
      },
      "execution_count": 7,
      "outputs": [
        {
          "output_type": "stream",
          "name": "stdout",
          "text": [
            "+--------------+-----------+-------------+-----------+----+-----------------+\n",
            "|     review_id|star_rating|helpful_votes|total_votes|vine|verified_purchase|\n",
            "+--------------+-----------+-------------+-----------+----+-----------------+\n",
            "|R1NBG94582SJE2|          5|            0|          0|   N|                Y|\n",
            "|R273DCA6Y0H9V7|          5|            0|          0|   N|                Y|\n",
            "| RQVOXO7WUOFK6|          2|            1|          1|   N|                Y|\n",
            "|R1KWKSF21PO6HO|          5|            0|          0|   N|                Y|\n",
            "|R38H3UO1J190GI|          5|            1|          1|   N|                Y|\n",
            "|R3NPIFKLR19NQA|          3|            0|          0|   N|                Y|\n",
            "|R3MBE6UCH3435E|          3|            8|          8|   N|                N|\n",
            "|R2E7A4FF0PVY5Q|          5|            0|          1|   N|                Y|\n",
            "| R3R8JDQ2BF4NM|          5|            0|          2|   N|                Y|\n",
            "|R1YND4BS823GN5|          1|            0|          0|   N|                Y|\n",
            "|R2TZNSA18V7YF6|          4|            1|          1|   N|                Y|\n",
            "|R22ZVRDPPXIDNL|          5|            0|          0|   N|                Y|\n",
            "|R1F4O6WOO2W461|          3|            3|          3|   N|                Y|\n",
            "| RT1KLS3QSJNUT|          5|            4|          4|   N|                Y|\n",
            "|R222VYJL5K5IRS|          5|            0|          0|   N|                Y|\n",
            "|R31LUR7M4PQOLU|          5|            0|          0|   N|                Y|\n",
            "|R1OD3T3Q042LUQ|          2|            0|          0|   N|                Y|\n",
            "|R2QT68OZTT2YKE|          5|            0|          0|   N|                Y|\n",
            "| RMFQF59FG3TD1|          4|            0|          0|   N|                Y|\n",
            "|R1QNYFW6G31R5T|          1|            1|          3|   N|                N|\n",
            "+--------------+-----------+-------------+-----------+----+-----------------+\n",
            "only showing top 20 rows\n",
            "\n"
          ]
        }
      ]
    },
    {
      "cell_type": "code",
      "source": [
        "# Filter dataframe on total_votes greater than or equal to 20\n",
        "filtered_df = vine_df.filter(\"total_votes >= 20\")\n",
        "filtered_df.show()"
      ],
      "metadata": {
        "colab": {
          "base_uri": "https://localhost:8080/"
        },
        "id": "mxhUXfDIReiy",
        "outputId": "ac357afd-f3d5-4a02-d30d-883b7da8ea4c"
      },
      "execution_count": 8,
      "outputs": [
        {
          "output_type": "stream",
          "name": "stdout",
          "text": [
            "+--------------+-----------+-------------+-----------+----+-----------------+\n",
            "|     review_id|star_rating|helpful_votes|total_votes|vine|verified_purchase|\n",
            "+--------------+-----------+-------------+-----------+----+-----------------+\n",
            "|R3FJ319XA6ZAUQ|          2|           21|         25|   N|                Y|\n",
            "| R6HRF25HUMIIE|          5|           24|         24|   N|                Y|\n",
            "|R2CTAK3APOFKZU|          5|           37|         38|   N|                N|\n",
            "|R1WQZB0CAEPQBU|          2|           85|        128|   N|                N|\n",
            "| RHZDSA48HVRVK|          5|           49|         86|   N|                N|\n",
            "|R190J2PDOZ5GVK|          3|           36|         51|   N|                Y|\n",
            "|R1WZSWWOTN58OP|          5|           73|         77|   N|                Y|\n",
            "|R3EM8C9CKA6GPK|          2|           41|        115|   N|                N|\n",
            "|R29THVJFO35FZA|          5|           48|         50|   N|                Y|\n",
            "|R3V8FKXIHBLWEL|          5|           91|        108|   N|                Y|\n",
            "|R3JIIPQ8F0P7QS|          4|           22|         23|   N|                Y|\n",
            "|R3T9SAE2GZ2CN8|          5|           24|         28|   N|                Y|\n",
            "|R2O9VZEU64LFXH|          4|          115|        136|   N|                Y|\n",
            "|R3NET50AD1HMUD|          3|           27|         32|   N|                Y|\n",
            "| R79ZW8DU56QV6|          1|           43|         47|   N|                N|\n",
            "| RQN1N103PBM22|          1|           61|         69|   N|                Y|\n",
            "|R28VHGS18B0YXC|          5|           35|         42|   N|                N|\n",
            "|R3BWM499VCMGS7|          5|           48|         52|   N|                Y|\n",
            "|R36SDHRTJ9VEM8|          5|           32|         34|   N|                N|\n",
            "|R2ILOJ2MACX1GM|          5|           37|         63|   N|                N|\n",
            "+--------------+-----------+-------------+-----------+----+-----------------+\n",
            "only showing top 20 rows\n",
            "\n"
          ]
        }
      ]
    },
    {
      "cell_type": "code",
      "source": [
        "# Filtered data frame where the number of helpful_votes divided by total_votes is equal to or greater than 50%.\n",
        "helpful_votes_df = filtered_df.filter(\"helpful_votes/total_votes >= 0.5\")\n",
        "helpful_votes_df.show()"
      ],
      "metadata": {
        "colab": {
          "base_uri": "https://localhost:8080/"
        },
        "id": "mZZRfQEebat1",
        "outputId": "8ab11b39-cdf0-4cb8-b1e0-b9d983a88c47"
      },
      "execution_count": 9,
      "outputs": [
        {
          "output_type": "stream",
          "name": "stdout",
          "text": [
            "+--------------+-----------+-------------+-----------+----+-----------------+\n",
            "|     review_id|star_rating|helpful_votes|total_votes|vine|verified_purchase|\n",
            "+--------------+-----------+-------------+-----------+----+-----------------+\n",
            "|R3FJ319XA6ZAUQ|          2|           21|         25|   N|                Y|\n",
            "| R6HRF25HUMIIE|          5|           24|         24|   N|                Y|\n",
            "|R2CTAK3APOFKZU|          5|           37|         38|   N|                N|\n",
            "|R1WQZB0CAEPQBU|          2|           85|        128|   N|                N|\n",
            "| RHZDSA48HVRVK|          5|           49|         86|   N|                N|\n",
            "|R190J2PDOZ5GVK|          3|           36|         51|   N|                Y|\n",
            "|R1WZSWWOTN58OP|          5|           73|         77|   N|                Y|\n",
            "|R29THVJFO35FZA|          5|           48|         50|   N|                Y|\n",
            "|R3V8FKXIHBLWEL|          5|           91|        108|   N|                Y|\n",
            "|R3JIIPQ8F0P7QS|          4|           22|         23|   N|                Y|\n",
            "|R3T9SAE2GZ2CN8|          5|           24|         28|   N|                Y|\n",
            "|R2O9VZEU64LFXH|          4|          115|        136|   N|                Y|\n",
            "|R3NET50AD1HMUD|          3|           27|         32|   N|                Y|\n",
            "| R79ZW8DU56QV6|          1|           43|         47|   N|                N|\n",
            "| RQN1N103PBM22|          1|           61|         69|   N|                Y|\n",
            "|R28VHGS18B0YXC|          5|           35|         42|   N|                N|\n",
            "|R3BWM499VCMGS7|          5|           48|         52|   N|                Y|\n",
            "|R36SDHRTJ9VEM8|          5|           32|         34|   N|                N|\n",
            "|R2ILOJ2MACX1GM|          5|           37|         63|   N|                N|\n",
            "|R2C9SAXAPMNSAI|          5|           44|         47|   N|                N|\n",
            "+--------------+-----------+-------------+-----------+----+-----------------+\n",
            "only showing top 20 rows\n",
            "\n"
          ]
        }
      ]
    },
    {
      "cell_type": "code",
      "source": [
        "helpful_votes_df.count()"
      ],
      "metadata": {
        "colab": {
          "base_uri": "https://localhost:8080/"
        },
        "id": "OKFkdLg46BuU",
        "outputId": "bc6b7b0f-14e8-42b9-df29-14bec3704109"
      },
      "execution_count": 11,
      "outputs": [
        {
          "output_type": "execute_result",
          "data": {
            "text/plain": [
              "51129"
            ]
          },
          "metadata": {},
          "execution_count": 11
        }
      ]
    },
    {
      "cell_type": "code",
      "source": [
        " # Data frame that retrieves all the rows where a review was written as part of the Vine program\n",
        "vine_df = helpful_votes_df.filter(\"vine == 'Y'\")\n",
        "vine_df.show()"
      ],
      "metadata": {
        "colab": {
          "base_uri": "https://localhost:8080/"
        },
        "id": "uQTMYiQnbu9Q",
        "outputId": "734c359b-fad4-4f52-b6c6-564a2c98d759"
      },
      "execution_count": 12,
      "outputs": [
        {
          "output_type": "stream",
          "name": "stdout",
          "text": [
            "+--------------+-----------+-------------+-----------+----+-----------------+\n",
            "|     review_id|star_rating|helpful_votes|total_votes|vine|verified_purchase|\n",
            "+--------------+-----------+-------------+-----------+----+-----------------+\n",
            "|R37L6YZDX0P3J9|          1|           28|         35|   Y|                N|\n",
            "|R2JT4XRQO2KASL|          5|           38|         41|   Y|                N|\n",
            "|R10XRAOBFFSTL2|          5|           44|         47|   Y|                N|\n",
            "| R1X8F3R1K1SF5|          2|           30|         31|   Y|                N|\n",
            "|R326QV66CKBB43|          4|          127|        139|   Y|                N|\n",
            "| RGXLFTR31J561|          5|           29|         34|   Y|                N|\n",
            "|R2ZS3WCJYUDQH0|          3|          101|        115|   Y|                N|\n",
            "|R31771VBPRDVJS|          4|           75|         83|   Y|                N|\n",
            "| R8O8KM73GO190|          5|           21|         28|   Y|                N|\n",
            "| RPU1GURA1NOT0|          5|           33|         35|   Y|                N|\n",
            "|R1LSBTTOR7MC2T|          5|          364|        373|   Y|                N|\n",
            "|R3M6G50741A8BZ|          5|           24|         30|   Y|                N|\n",
            "|R23USDQ7OW3CWH|          5|           58|         65|   Y|                N|\n",
            "|R21XG60MOE370I|          5|           95|        105|   Y|                N|\n",
            "|R38IT6Q7UDG0AC|          5|           52|         65|   Y|                N|\n",
            "|R1ZNRVVBZEZPMT|          2|           64|         74|   Y|                N|\n",
            "|R2UJ5PT023G3XU|          4|           29|         38|   Y|                N|\n",
            "|R2ZUSNUDLAG4HR|          5|           20|         23|   Y|                N|\n",
            "| RYCSFTDYMJCXV|          2|           52|         60|   Y|                N|\n",
            "|R2NKND0YUD25RE|          5|           39|         41|   Y|                N|\n",
            "+--------------+-----------+-------------+-----------+----+-----------------+\n",
            "only showing top 20 rows\n",
            "\n"
          ]
        }
      ]
    },
    {
      "cell_type": "code",
      "source": [
        " # Data frame that retrieves all the rows where a review was not part of the Vine program\n",
        "non_vine_df = helpful_votes_df.filter(\"vine == 'N'\")\n",
        "non_vine_df.show()"
      ],
      "metadata": {
        "colab": {
          "base_uri": "https://localhost:8080/"
        },
        "id": "E5vgX_yioWOe",
        "outputId": "084a44f7-4c27-46a5-b808-8f6ef79c8f5d"
      },
      "execution_count": 13,
      "outputs": [
        {
          "output_type": "stream",
          "name": "stdout",
          "text": [
            "+--------------+-----------+-------------+-----------+----+-----------------+\n",
            "|     review_id|star_rating|helpful_votes|total_votes|vine|verified_purchase|\n",
            "+--------------+-----------+-------------+-----------+----+-----------------+\n",
            "|R3FJ319XA6ZAUQ|          2|           21|         25|   N|                Y|\n",
            "| R6HRF25HUMIIE|          5|           24|         24|   N|                Y|\n",
            "|R2CTAK3APOFKZU|          5|           37|         38|   N|                N|\n",
            "|R1WQZB0CAEPQBU|          2|           85|        128|   N|                N|\n",
            "| RHZDSA48HVRVK|          5|           49|         86|   N|                N|\n",
            "|R190J2PDOZ5GVK|          3|           36|         51|   N|                Y|\n",
            "|R1WZSWWOTN58OP|          5|           73|         77|   N|                Y|\n",
            "|R29THVJFO35FZA|          5|           48|         50|   N|                Y|\n",
            "|R3V8FKXIHBLWEL|          5|           91|        108|   N|                Y|\n",
            "|R3JIIPQ8F0P7QS|          4|           22|         23|   N|                Y|\n",
            "|R3T9SAE2GZ2CN8|          5|           24|         28|   N|                Y|\n",
            "|R2O9VZEU64LFXH|          4|          115|        136|   N|                Y|\n",
            "|R3NET50AD1HMUD|          3|           27|         32|   N|                Y|\n",
            "| R79ZW8DU56QV6|          1|           43|         47|   N|                N|\n",
            "| RQN1N103PBM22|          1|           61|         69|   N|                Y|\n",
            "|R28VHGS18B0YXC|          5|           35|         42|   N|                N|\n",
            "|R3BWM499VCMGS7|          5|           48|         52|   N|                Y|\n",
            "|R36SDHRTJ9VEM8|          5|           32|         34|   N|                N|\n",
            "|R2ILOJ2MACX1GM|          5|           37|         63|   N|                N|\n",
            "|R2C9SAXAPMNSAI|          5|           44|         47|   N|                N|\n",
            "+--------------+-----------+-------------+-----------+----+-----------------+\n",
            "only showing top 20 rows\n",
            "\n"
          ]
        }
      ]
    },
    {
      "cell_type": "code",
      "source": [
        "# total number of paid reviews\n",
        "total_reviews_vine = vine_df.count()\n",
        "total_reviews_vine"
      ],
      "metadata": {
        "colab": {
          "base_uri": "https://localhost:8080/"
        },
        "id": "QYDlyRrLpLgD",
        "outputId": "b596c438-901a-41d9-9c76-f4f659c66e20"
      },
      "execution_count": 14,
      "outputs": [
        {
          "output_type": "execute_result",
          "data": {
            "text/plain": [
              "607"
            ]
          },
          "metadata": {},
          "execution_count": 14
        }
      ]
    },
    {
      "cell_type": "code",
      "source": [
        "# total number of unpaid reviews\n",
        "total_non_vine = non_vine_df.count()\n",
        "total_non_vine"
      ],
      "metadata": {
        "colab": {
          "base_uri": "https://localhost:8080/"
        },
        "id": "G47oEpKCbicv",
        "outputId": "3f7d9398-014b-4153-bd51-919c4d00c941"
      },
      "execution_count": 15,
      "outputs": [
        {
          "output_type": "execute_result",
          "data": {
            "text/plain": [
              "50522"
            ]
          },
          "metadata": {},
          "execution_count": 15
        }
      ]
    },
    {
      "cell_type": "code",
      "source": [
        "# Number of 5-star paid reviews \n",
        "paid_5star = vine_df.filter(\"star_rating == 5\").count()\n",
        "paid_5star\n"
      ],
      "metadata": {
        "colab": {
          "base_uri": "https://localhost:8080/"
        },
        "id": "kxEzngnMrhld",
        "outputId": "1012e815-e0a3-4075-c442-01d3f559852a"
      },
      "execution_count": 16,
      "outputs": [
        {
          "output_type": "execute_result",
          "data": {
            "text/plain": [
              "257"
            ]
          },
          "metadata": {},
          "execution_count": 16
        }
      ]
    },
    {
      "cell_type": "code",
      "source": [
        "# Number of 5-star unpaid reviews \n",
        "unpaid_5star = non_vine_df.filter(\"star_rating == 5\").count()\n",
        "unpaid_5star"
      ],
      "metadata": {
        "colab": {
          "base_uri": "https://localhost:8080/"
        },
        "id": "oqIiAzwfrn8P",
        "outputId": "767b5d85-2d1f-433e-ec1b-94e1a493f601"
      },
      "execution_count": 17,
      "outputs": [
        {
          "output_type": "execute_result",
          "data": {
            "text/plain": [
              "25220"
            ]
          },
          "metadata": {},
          "execution_count": 17
        }
      ]
    },
    {
      "cell_type": "code",
      "source": [
        "# Percentage of 5-star paid reviews \n",
        "percentage_paid = (paid_5star/total_reviews_vine)* 100\n",
        "percentage_paid\n"
      ],
      "metadata": {
        "colab": {
          "base_uri": "https://localhost:8080/"
        },
        "id": "oLn91Yobr1Wf",
        "outputId": "55a999cb-5d47-491d-824c-10af76e1a148"
      },
      "execution_count": 18,
      "outputs": [
        {
          "output_type": "execute_result",
          "data": {
            "text/plain": [
              "42.33937397034596"
            ]
          },
          "metadata": {},
          "execution_count": 18
        }
      ]
    },
    {
      "cell_type": "code",
      "source": [
        "# Percentage of 5-star unpaid reviews \n",
        "percentage_unpaid = (unpaid_5star/total_non_vine)* 100\n",
        "percentage_unpaid"
      ],
      "metadata": {
        "colab": {
          "base_uri": "https://localhost:8080/"
        },
        "id": "LEmHujtTr4Wu",
        "outputId": "eaf8109b-c0aa-4a29-dcc3-c5e2c032ba1c"
      },
      "execution_count": 19,
      "outputs": [
        {
          "output_type": "execute_result",
          "data": {
            "text/plain": [
              "49.91884723486798"
            ]
          },
          "metadata": {},
          "execution_count": 19
        }
      ]
    }
  ]
}